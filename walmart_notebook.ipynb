{
 "cells": [
  {
   "cell_type": "code",
   "execution_count": 1,
   "metadata": {},
   "outputs": [
    {
     "ename": "ModuleNotFoundError",
     "evalue": "No module named 'statsmodels'",
     "output_type": "error",
     "traceback": [
      "\u001b[1;31m---------------------------------------------------------------------------\u001b[0m",
      "\u001b[1;31mModuleNotFoundError\u001b[0m                       Traceback (most recent call last)",
      "Cell \u001b[1;32mIn[1], line 8\u001b[0m\n\u001b[0;32m      6\u001b[0m \u001b[38;5;28;01mimport\u001b[39;00m \u001b[38;5;21;01mseaborn\u001b[39;00m \u001b[38;5;28;01mas\u001b[39;00m \u001b[38;5;21;01msns\u001b[39;00m\n\u001b[0;32m      7\u001b[0m \u001b[38;5;28;01mfrom\u001b[39;00m \u001b[38;5;21;01mIPython\u001b[39;00m\u001b[38;5;21;01m.\u001b[39;00m\u001b[38;5;21;01mdisplay\u001b[39;00m \u001b[38;5;28;01mimport\u001b[39;00m display\n\u001b[1;32m----> 8\u001b[0m \u001b[38;5;28;01mfrom\u001b[39;00m \u001b[38;5;21;01mstatsmodels\u001b[39;00m\u001b[38;5;21;01m.\u001b[39;00m\u001b[38;5;21;01mformula\u001b[39;00m \u001b[38;5;28;01mimport\u001b[39;00m api\n\u001b[0;32m      9\u001b[0m \u001b[38;5;28;01mfrom\u001b[39;00m \u001b[38;5;21;01msklearn\u001b[39;00m\u001b[38;5;21;01m.\u001b[39;00m\u001b[38;5;21;01mfeature_selection\u001b[39;00m \u001b[38;5;28;01mimport\u001b[39;00m RFE\n\u001b[0;32m     10\u001b[0m \u001b[38;5;28;01mfrom\u001b[39;00m \u001b[38;5;21;01msklearn\u001b[39;00m\u001b[38;5;21;01m.\u001b[39;00m\u001b[38;5;21;01mpreprocessing\u001b[39;00m \u001b[38;5;28;01mimport\u001b[39;00m StandardScaler\n",
      "\u001b[1;31mModuleNotFoundError\u001b[0m: No module named 'statsmodels'"
     ]
    }
   ],
   "source": [
    "\n",
    "# Importing the basic libraries\n",
    "import os\n",
    "import math\n",
    "import numpy as np\n",
    "import pandas as pd\n",
    "import seaborn as sns\n",
    "from IPython.display import display\n",
    "from statsmodels.formula import api\n",
    "from sklearn.feature_selection import RFE\n",
    "from sklearn.preprocessing import StandardScaler\n",
    "from sklearn.model_selection import train_test_split\n",
    "from statsmodels.stats.outliers_influence import variance_inflation_factor\n",
    "from sklearn.decomposition import PCA\n",
    "from sklearn.linear_model import Ridge, Lasso, ElasticNet, LinearRegression\n",
    "from sklearn.ensemble import RandomForestClassifier\n",
    "from sklearn.preprocessing import PolynomialFeatures\n",
    "from sklearn.metrics import r2_score, mean_absolute_error, mean_squared_error\n",
    "import matplotlib.pyplot as plt\n",
    "plt.rcParams['figure.figsize'] = [10, 6]\n",
    "import warnings \n",
    "warnings.filterwarnings('ignore')\n",
    "\n",
    "\n",
    "\n",
    "\n"
   ]
  },
  {
   "cell_type": "code",
   "execution_count": null,
   "metadata": {},
   "outputs": [],
   "source": [
    "\n",
    "# Importing the dataset\n",
    "# Importing the dataset\n",
    "df = pd.read_csv('C:\\\\Users\\\\samar\\\\OneDrive\\\\Desktop\\\\Walmart_Sales\\\\Walmart.csv')\n"
   ]
  },
  {
   "cell_type": "code",
   "execution_count": null,
   "metadata": {},
   "outputs": [],
   "source": [
    "display(df.head())\n",
    "\n",
    "original_df = df.copy(deep=True)\n",
    "print('\\n\\033[1mInference:\\033[0m The Datset consists of {} features & {} samples.'.format(df.shape[1], df.shape[0]))\n"
   ]
  },
  {
   "cell_type": "code",
   "execution_count": null,
   "metadata": {},
   "outputs": [],
   "source": [
    "\n",
    "# Reframing the columns\n",
    "df.Date = pd.to_datetime(df.Date, dayfirst=True)\n",
    "df['weekday'] = df.Date.dt.weekday\n",
    "df['month'] = df.Date.dt.month\n",
    "df['year'] = df.Date.dt.year\n",
    "df.drop(['Date'], axis=1, inplace=True)"
   ]
  },
  {
   "cell_type": "code",
   "execution_count": null,
   "metadata": {},
   "outputs": [],
   "source": [
    "target = 'Weekly_Sales'\n",
    "features = [i for i in df.columns if i not in [target]]\n",
    "original_df = df.copy(deep=True)\n",
    "df.head()\n",
    "\n",
    "# Checking the dtypes of all the columns\n",
    "df.info()\n",
    "\n",
    "\n",
    "\n",
    "\n",
    "\n",
    "\n",
    "\n",
    "\n",
    "\n",
    "\n",
    "\n",
    "\n",
    "\n",
    "\n",
    "\n",
    "\n",
    "\n"
   ]
  },
  {
   "cell_type": "code",
   "execution_count": null,
   "metadata": {},
   "outputs": [],
   "source": [
    "# Checking number of unique rows in each feature\n",
    "df.nunique().sort_values()\n",
    "\n",
    "nu = df[features].nunique().sort_values()\n",
    "nf = []\n",
    "cf = []\n",
    "nnf = 0\n",
    "ncf = 0  # numerical & categorical features\n",
    "\n",
    "for i in range(df[features].shape[1]):\n",
    "    if nu.values[i] <= 45:\n",
    "        cf.append(nu.index[i])\n",
    "    else:\n",
    "        nf.append(nu.index[i])\n",
    "\n",
    "print('\\n\\033[1mInference:\\033[0m The Datset has {} numerical & {} categorical features.'.format(len(nf), len(cf)))\n",
    "display(df.describe())"
   ]
  },
  {
   "cell_type": "code",
   "execution_count": null,
   "metadata": {},
   "outputs": [],
   "source": [
    "# Plotting the distribution of the target variable\n",
    "plt.figure(figsize=[8, 4])\n",
    "sns.distplot(df[target], color='g', hist_kws=dict(edgecolor=\"black\", linewidth=2), bins=30)\n",
    "plt.title('Target Variable Distribution - Median Value of Homes ($1Ms)')\n",
    "plt.show()"
   ]
  },
  {
   "cell_type": "code",
   "execution_count": null,
   "metadata": {},
   "outputs": [],
   "source": [
    "# Visualising the categorical features\n",
    "print('\\033[1mVisualising Categorical Features:'.center(100))\n",
    "n = 2\n",
    "plt.figure(figsize=[15, 3 * math.ceil(len(cf) / n)])\n",
    "for i in range(len(cf)):\n",
    "    if df[cf[i]].nunique() <= 8:\n",
    "        plt.subplot(math.ceil(len(cf) / n), n, i + 1)\n",
    "        sns.countplot(df[cf[i]])\n",
    "    else:\n",
    "        plt.subplot(3, 1, i - 1)\n",
    "        sns.countplot(df[cf[i]])\n",
    "plt.tight_layout()\n",
    "plt.show()"
   ]
  },
  {
   "cell_type": "code",
   "execution_count": null,
   "metadata": {},
   "outputs": [],
   "source": [
    "# Visualising the numeric features\n",
    "print('\\033[1mNumeric Features Distribution'.center(130))\n",
    "n = 4\n",
    "plt.figure(figsize=[15, 6 * math.ceil(len(nf) / n)])\n",
    "for i in range(len(nf)):\n",
    "    plt.subplot(math.ceil(len(nf) / 3), n, i + 1)\n",
    "    sns.distplot(df[nf[i]], hist_kws=dict(edgecolor=\"black\", linewidth=2), bins=10, color=list(np.random.randint([255, 255, 255]) / 255))\n",
    "plt.tight_layout()\n",
    "plt.show()\n",
    "plt.figure(figsize=[15, 6 * math.ceil(len(nf) / n)])\n",
    "for i in range(len(nf)):\n",
    "    plt.subplot(math.ceil(len(nf) / 3), n, i + 1)\n",
    "    df.boxplot(nf[i])\n",
    "plt.tight_layout()\n",
    "plt.show()"
   ]
  },
  {
   "cell_type": "code",
   "execution_count": null,
   "metadata": {},
   "outputs": [],
   "source": [
    "# Understanding the relationship between all the features\n",
    "g = sns.pairplot(df)\n",
    "plt.title('Pairplots for all the Feature')\n",
    "g.map_upper(sns.kdeplot, levels=4, color=\".2\")\n",
    "plt.show()"
   ]
  },
  {
   "cell_type": "code",
   "execution_count": null,
   "metadata": {},
   "outputs": [],
   "source": [
    "\n",
    "# Removal of any Duplicate rows (if any)\n",
    "counter = 0\n",
    "rs, cs = original_df.shape\n",
    "df.drop_duplicates(inplace=True)\n",
    "\n",
    "if df.shape == (rs, cs):\n",
    "    print('\\n\\033[1mInference:\\033[0m The dataset doesn\\'t have any duplicates')\n",
    "else:\n",
    "    print(f'\\n\\033[1mInference:\\033[0m Number of duplicates dropped/fixed ---> {rs - df.shape[0]}')"
   ]
  },
  {
   "cell_type": "code",
   "execution_count": null,
   "metadata": {},
   "outputs": [],
   "source": [
    "# Check for empty elements\n",
    "nvc = pd.DataFrame(df.isnull().sum().sort_values(), columns=['Total Null Values'])\n",
    "nvc['Percentage'] = round(nvc['Total Null Values'] / df.shape[0], 3) * 100\n",
    "print(nvc)"
   ]
  },
  {
   "cell_type": "code",
   "execution_count": null,
   "metadata": {},
   "outputs": [],
   "source": [
    "# Converting categorical Columns to Numeric\n",
    "df3 = df.copy()\n",
    "ecc = nvc[nvc['Percentage'] != 0].index.values\n",
    "fcc = [i for i in cf if i not in ecc]\n",
    "oh = True\n",
    "dm = True\n",
    "for i in fcc:\n",
    "    if df3[i].nunique() == 2:\n",
    "        if oh == True:\n",
    "            print(\"\\033[1mOne-Hot Encoding on features:\\033[0m\")\n",
    "        print(i)\n",
    "        oh = False\n",
    "        df3[i] = pd.get_dummies(df3[i], drop_first=True, prefix=str(i))\n",
    "    if df3[i].nunique() > 2:\n",
    "        if dm == True:\n",
    "            print(\"\\n\\033[1mDummy Encoding on features:\\033[0m\")\n",
    "        print(i)\n",
    "        dm = False\n",
    "        df3 = pd.concat([df3.drop([i], axis=1), pd.DataFrame(pd.get_dummies(df3[i], drop_first=True, prefix=str(i)))], axis=1)\n"
   ]
  },
  {
   "cell_type": "code",
   "execution_count": null,
   "metadata": {},
   "outputs": [],
   "source": [
    "# Removal of outliers\n",
    "df1 = df3.copy()\n",
    "features1 = nf\n",
    "for i in features1:\n",
    "    Q1 = df1[i].quantile(0.25)\n",
    "    Q3 = df1[i].quantile(0.75)\n",
    "    IQR = Q3 - Q1\n",
    "    df1 = df1[df1[i] <= (Q3 + (1.5 * IQR))]\n",
    "    df1 = df1[df1[i] >= (Q1 - (1.5 * IQR))]\n",
    "    df1 = df1.reset_index(drop=True)\n",
    "display(df1.head())\n",
    "print('\\n\\033[1mInference:\\033[0m\\nBefore removal of outliers, The dataset had {} samples.'.format(df3.shape[0]))\n",
    "print('After removal of outliers, The dataset now has {} samples.'.format(df1.shape[0]))\n"
   ]
  },
  {
   "cell_type": "code",
   "execution_count": null,
   "metadata": {},
   "outputs": [],
   "source": [
    "\n",
    "# Final Dataset size after performing Preprocessing\n",
    "df = df1.copy()\n",
    "df.columns = [i.replace('-', '_') for i in df.columns]\n",
    "plt.title('Final Dataset')\n",
    "plt.pie([df.shape[0], original_df.shape[0] - df.shape[0]], radius=1, labels=['Retained', 'Dropped'], counterclock=False, autopct='%1.1f%%', pctdistance=0.9, explode=[0, 0], shadow=True)\n",
    "plt.pie([df.shape[0]], labels=['100%'], labeldistance=-0, radius=0.78)\n",
    "plt.show()\n",
    "print(f'\\n\\033[1mInference:\\033[0m After the cleanup process, {original_df.shape[0] - df.shape[0]} samples were dropped, while retaining {round(100 - (df.shape[0] * 100 / (original_df.shape[0])), 2)}% of the data.')\n"
   ]
  }
 ],
 "metadata": {
  "kernelspec": {
   "display_name": "Python (venv)",
   "language": "python",
   "name": "venv"
  },
  "language_info": {
   "codemirror_mode": {
    "name": "ipython",
    "version": 3
   },
   "file_extension": ".py",
   "mimetype": "text/x-python",
   "name": "python",
   "nbconvert_exporter": "python",
   "pygments_lexer": "ipython3",
   "version": "3.12.3"
  }
 },
 "nbformat": 4,
 "nbformat_minor": 2
}
